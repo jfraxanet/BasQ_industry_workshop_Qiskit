{
 "cells": [
  {
   "cell_type": "markdown",
   "id": "0c976a7a",
   "metadata": {
    "slideshow": {
     "slide_type": "slide"
    }
   },
   "source": [
    "# QAOA for Max-Cut problem\n",
    "\n",
    "\n",
    "Here, we will review the Quantum Approximate Optimization Algorithm.\n",
    "\n",
    "The goal is to use Qiskit Runtime to solve the Max-Cut problem.\n",
    "\n",
    "You can find the whole tutorial and a guide on how to run it in real hardware here:\n",
    "\n",
    "https://learning.quantum.ibm.com/tutorial/quantum-approximate-optimization-algorithm"
   ]
  },
  {
   "cell_type": "markdown",
   "id": "effd5a40",
   "metadata": {
    "slideshow": {
     "slide_type": "slide"
    }
   },
   "source": [
    "## What is the Max Cut problem?\n",
    "\n",
    "Given a graph, we want to partition its nodes in a way that maximizes de number of edges between nodes in differing groups.\n",
    "\n",
    "An example (where we need `rustworkx`).\n",
    "\n",
    "    pip install rustworkx\n"
   ]
  },
  {
   "cell_type": "code",
   "execution_count": null,
   "id": "99a0fb37",
   "metadata": {
    "slideshow": {
     "slide_type": "slide"
    }
   },
   "outputs": [],
   "source": [
    "import rustworkx as rx\n",
    "from rustworkx.visualization import mpl_draw\n",
    "\n",
    "num_nodes = 5\n",
    "edges = [(0, 1, 1), (0, 2, 1), (0, 3, 1), (0, 4, 1)]# The edge syntax is (start, end, weight)\n",
    "\n",
    "G = rx.PyGraph()\n",
    "G.add_nodes_from(range(num_nodes))\n",
    "G.add_edges_from(edges)\n",
    "\n",
    "mpl_draw(\n",
    "    G, pos=rx.bipartite_layout(G, {0}), with_labels=True, node_color='tab:purple', font_color='white'\n",
    ")"
   ]
  },
  {
   "cell_type": "markdown",
   "id": "d6066c09",
   "metadata": {
    "slideshow": {
     "slide_type": "slide"
    }
   },
   "source": [
    "The first step is to build an observable, which in this case is a Hamiltonian, that will define the cost function of the problem we want to solve.\n",
    "\n",
    "In order to map the MaxCut problem to a quantum observable, we need to sum all the combinations of applying $Z$ operators to the connected edges. \n",
    "\n",
    "In this case:\n",
    "\n",
    "$IIIZZ + IIZIZ + IZIIZ + ZIIIZ \\quad (= \\sum_{i,j\\in E} Z_iZ_j)$\n",
    "\n",
    "Note that the we always start counting from the right."
   ]
  },
  {
   "cell_type": "code",
   "execution_count": null,
   "id": "4f6e02be",
   "metadata": {
    "slideshow": {
     "slide_type": "slide"
    }
   },
   "outputs": [],
   "source": [
    "import numpy as np\n",
    "from qiskit.quantum_info import SparsePauliOp\n",
    "\n",
    "# Problem to Hamiltonian operator\n",
    "hamiltonian = SparsePauliOp.from_list([(\"IIIZZ\", 1), (\"IIZIZ\", 1), (\"IZIIZ\", 1), (\"ZIIIZ\", 1)])\n",
    "\n",
    "print(hamiltonian)"
   ]
  },
  {
   "cell_type": "markdown",
   "id": "d9d1f2b7",
   "metadata": {
    "slideshow": {
     "slide_type": "slide"
    }
   },
   "source": [
    "## Defining the ansatz\n",
    "\n",
    "The QAOA ansatz is predefined in Qiskit. Given the Hamiltonian of the problem $H_G$ and a number of repetitions, it will iterate the evolution of $H_G$ with evolution following the Hamiltonian\n",
    "\n",
    "$ H = IIIIX + IIIXI + IIXII + IXIII + XIIII \\quad (= \\sum_i X_i)$\n",
    "\n",
    "In this case the initial state is just all qubits to zero so we do not need to worry about it."
   ]
  },
  {
   "cell_type": "code",
   "execution_count": null,
   "id": "55c6a2c0",
   "metadata": {
    "scrolled": false,
    "slideshow": {
     "slide_type": "slide"
    }
   },
   "outputs": [],
   "source": [
    "from qiskit.circuit.library import QAOAAnsatz\n",
    "\n",
    "# QAOA ansatz circuit\n",
    "ansatz = QAOAAnsatz(hamiltonian, reps=2)\n",
    "\n",
    "ansatz.decompose(reps=3).draw(output=\"mpl\", style=\"clifford\")"
   ]
  },
  {
   "cell_type": "markdown",
   "id": "6edb8cc6",
   "metadata": {
    "slideshow": {
     "slide_type": "slide"
    }
   },
   "source": [
    "The previous image illustrates the ansatz in the basic gates. \n",
    "\n",
    "Using `reps` we can change the level of decomposition. For example, the following representation directly shows the QAOA structure."
   ]
  },
  {
   "cell_type": "code",
   "execution_count": null,
   "id": "d0d2c7dd",
   "metadata": {
    "slideshow": {
     "slide_type": "slide"
    }
   },
   "outputs": [],
   "source": [
    "ansatz.decompose(reps=1).draw(output=\"mpl\", style=\"clifford\")"
   ]
  },
  {
   "cell_type": "markdown",
   "id": "fcb48ff2",
   "metadata": {
    "slideshow": {
     "slide_type": "slide"
    }
   },
   "source": [
    "## Defining a cost function\n",
    "\n",
    "The next step is to define the cost function using the estimator and the Hamiltonian. \n",
    "This is done as follows: "
   ]
  },
  {
   "cell_type": "code",
   "execution_count": null,
   "id": "1eb0ef86",
   "metadata": {
    "scrolled": true,
    "slideshow": {
     "slide_type": "fragment"
    }
   },
   "outputs": [],
   "source": [
    "from qiskit.primitives import Estimator\n",
    "\n",
    "estimator = Estimator()\n",
    "\n",
    "# If we want to run it on the real device, use these lines instead:\n",
    "\n",
    "#from qiskit_ibm_runtime import QiskitRuntimeService\n",
    "#from qiskit_ibm_runtime import Estimator, Sampler, Session, Options\n",
    "\n",
    "#service = QiskitRuntimeService(channel=\"ibm_quantum\", token=<YOUR TOKEN>)\n",
    "#backend = service.least_busy(operational=True, simulator=False)\n",
    "#print(backend.name)\n",
    "\n",
    "#options = Options()\n",
    "#options.resilience_level = 1\n",
    "#options.optimization_level = 3\n",
    " \n",
    "#estimator = Estimator(backend, options=options)\n",
    "\n",
    "def cost_func(params, ansatz, hamiltonian, estimator):\n",
    "    \n",
    "    \"\"\"Return estimate of energy from estimator\n",
    "\n",
    "    Parameters:\n",
    "        params (ndarray): Array of ansatz parameters\n",
    "        ansatz (QuantumCircuit): Parameterized ansatz circuit\n",
    "        hamiltonian (SparsePauliOp): Operator representation of Hamiltonian\n",
    "        estimator (Estimator): Estimator primitive instance\n",
    "\n",
    "    Returns:\n",
    "        float: Energy estimate\n",
    "    \"\"\"\n",
    "    \n",
    "    cost = estimator.run(ansatz, hamiltonian, parameter_values=params).result().values[0]\n",
    "    return cost"
   ]
  },
  {
   "cell_type": "markdown",
   "id": "440bd210",
   "metadata": {
    "slideshow": {
     "slide_type": "slide"
    }
   },
   "source": [
    "Now we are ready to solve the problem using the minimize scipy function:"
   ]
  },
  {
   "cell_type": "code",
   "execution_count": null,
   "id": "16fbb4c9",
   "metadata": {
    "slideshow": {
     "slide_type": "fragment"
    }
   },
   "outputs": [],
   "source": [
    "from scipy.optimize import minimize\n",
    "\n",
    "# Randomly initialize the parameters of the ansatz\n",
    "x0 = 2 * np.pi * np.random.rand(ansatz.num_parameters)\n",
    "\n",
    "# Run the variational algorithm\n",
    "res = minimize(cost_func, x0, args=(ansatz, hamiltonian, estimator),\n",
    "               method=\"COBYLA\")\n",
    "\n",
    "print(res)"
   ]
  },
  {
   "cell_type": "markdown",
   "id": "698cf123",
   "metadata": {
    "slideshow": {
     "slide_type": "slide"
    }
   },
   "source": [
    "In order to check if the solution makes sense, let's plot the probabilities of the final state."
   ]
  },
  {
   "cell_type": "code",
   "execution_count": null,
   "id": "96450988",
   "metadata": {
    "scrolled": true,
    "slideshow": {
     "slide_type": "slide"
    }
   },
   "outputs": [],
   "source": [
    "from qiskit.primitives import Sampler\n",
    "\n",
    "sampler = Sampler()\n",
    "\n",
    "# If instead we want to run it on the device \n",
    "# we need the sampler from runtime\n",
    "# sampler = Sampler(backend, options=options)\n",
    "\n",
    "# Assign solution parameters to ansatz\n",
    "qc = ansatz.assign_parameters(res.x)\n",
    "qc.measure_all()\n",
    "\n",
    "# Draw circuit with optimal parameters\n",
    "#qc_ibm.draw(output=\"mpl\", idle_wires=False, style=\"iqp\")"
   ]
  },
  {
   "cell_type": "code",
   "execution_count": null,
   "id": "dc2bc167",
   "metadata": {},
   "outputs": [],
   "source": [
    "from qiskit.visualization import plot_distribution\n",
    "\n",
    "# Sample ansatz at optimal parameters\n",
    "samp_dist = sampler.run(qc).result().quasi_dists[0]\n",
    "plot_distribution(samp_dist.binary_probabilities(), figsize=(15, 5))"
   ]
  },
  {
   "cell_type": "markdown",
   "id": "baa6bec3",
   "metadata": {
    "slideshow": {
     "slide_type": "slide"
    }
   },
   "source": [
    "We see that the final probabilities are $00001$ and $11110$, which correspond to isolating node number $0$. This is indeed the partition that would cut the maximum number of edges in the graph!\n",
    "\n",
    "![MaxCut](image3.png)"
   ]
  },
  {
   "cell_type": "markdown",
   "id": "da210bb0",
   "metadata": {
    "slideshow": {
     "slide_type": "slide"
    }
   },
   "source": [
    "Now you have all the tools to explore new problems.\n",
    "\n",
    "Try to modify the Hamiltonian to define more complex graphs and check whether the QAOA algorithm gives you the right solution!"
   ]
  }
 ],
 "metadata": {
  "celltoolbar": "Slideshow",
  "kernelspec": {
   "display_name": "Python 3 (ipykernel)",
   "language": "python",
   "name": "python3"
  },
  "language_info": {
   "codemirror_mode": {
    "name": "ipython",
    "version": 3
   },
   "file_extension": ".py",
   "mimetype": "text/x-python",
   "name": "python",
   "nbconvert_exporter": "python",
   "pygments_lexer": "ipython3",
   "version": "3.11.7"
  }
 },
 "nbformat": 4,
 "nbformat_minor": 5
}
