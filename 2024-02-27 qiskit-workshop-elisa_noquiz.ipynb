{
 "cells": [
  {
   "cell_type": "markdown",
   "id": "03b5aff6",
   "metadata": {
    "slideshow": {
     "slide_type": "slide"
    }
   },
   "source": [
    "# Introduction to Qiskit \n",
    "\n",
    "Dr. Elisa Bäumer, IBM Research Zurich\n",
    "\n",
    "BasQ Industry Workshop\n",
    "\n",
    "Bilbao, 27.02.2024"
   ]
  },
  {
   "cell_type": "markdown",
   "id": "4e3d161e",
   "metadata": {
    "slideshow": {
     "slide_type": "slide"
    }
   },
   "source": [
    "## Overview\n",
    "\n",
    "4. Quantum circuits and visualization\n",
    "\n",
    "-- Coffee break --\n",
    "\n",
    "5. Grover's Algorithm\n",
    "6. Noisy backends and measurement error mitigation"
   ]
  },
  {
   "cell_type": "markdown",
   "id": "779563dc",
   "metadata": {
    "slideshow": {
     "slide_type": "slide"
    },
    "tags": []
   },
   "source": [
    "## 4. Quantum circuits and visualization"
   ]
  },
  {
   "cell_type": "markdown",
   "id": "5677e30b",
   "metadata": {
    "slideshow": {
     "slide_type": "-"
    },
    "tags": []
   },
   "source": [
    "### Building your first quantum circuit\n",
    "\n",
    "As a first \"hello-world\" example, we will build and simulate a Bell circuit, showcasing the basic workflow of Qiskit. "
   ]
  },
  {
   "cell_type": "markdown",
   "id": "c75e128a",
   "metadata": {
    "slideshow": {
     "slide_type": "slide"
    }
   },
   "source": [
    "Quick recap: \n",
    "- **Superposition**, which allows to perform calculations on many states at the same time, can be built by applying a Hadamard gate.\n",
    "<br>\n",
    "<br>\n",
    "<br>\n",
    "<br>\n",
    "<br>"
   ]
  },
  {
   "cell_type": "markdown",
   "id": "577416d2",
   "metadata": {
    "slideshow": {
     "slide_type": "slide"
    }
   },
   "source": [
    "Quick recap: \n",
    "- **Superposition**, which allows to perform calculations on many states at the same time, can be built by applying a Hadamard gate.\n",
    "- As a superposition state collapses during measurement, it is not enough to get a speedup, but we can also use **interference effects**.\n",
    "<br>\n",
    "<br>\n",
    "<br>"
   ]
  },
  {
   "cell_type": "markdown",
   "id": "c8bf731a",
   "metadata": {
    "slideshow": {
     "slide_type": "slide"
    }
   },
   "source": [
    "Quick recap: \n",
    "- **Superposition**, which allows to perform calculations on many states at the same time, can be built by applying a Hadamard gate.\n",
    "- As a superposition state collapses during measurement, it is not enough to get a speedup, but we can also use **interference effects**.\n",
    "- Those require **entanglement**, which can be built by applying a CNOT gate."
   ]
  },
  {
   "cell_type": "code",
   "execution_count": null,
   "id": "78eea48d",
   "metadata": {
    "scrolled": true,
    "slideshow": {
     "slide_type": "slide"
    }
   },
   "outputs": [],
   "source": [
    "from qiskit import QuantumCircuit\n",
    "\n",
    "# Create circuit\n",
    "circuit = QuantumCircuit(2)\n",
    "circuit.h(0)\n",
    "circuit.cx(0, 1)\n",
    "circuit.draw('mpl',style=\"iqp\",initial_state=True)"
   ]
  },
  {
   "cell_type": "markdown",
   "id": "810579e0",
   "metadata": {
    "slideshow": {
     "slide_type": "slide"
    }
   },
   "source": [
    "### Simulating the final state\n",
    "In many situations you want to see the final state of a quantum circuit. We can simulate the Statevector prepared by a quantum circuit using the `quantum_info` package."
   ]
  },
  {
   "cell_type": "code",
   "execution_count": null,
   "id": "3031607a",
   "metadata": {
    "slideshow": {
     "slide_type": "-"
    }
   },
   "outputs": [],
   "source": [
    "import qiskit.quantum_info as qi\n",
    "from qiskit.visualization import array_to_latex\n",
    "\n",
    "qc = QuantumCircuit(2)\n",
    "qc.x(0)\n",
    "qc.h(0)\n",
    "qc.cx(0, 1)\n",
    "psi = qi.Statevector.from_instruction(qc)\n",
    "array_to_latex(psi)\n",
    "# quiz-time!"
   ]
  },
  {
   "cell_type": "markdown",
   "id": "4aa98d5e",
   "metadata": {
    "slideshow": {
     "slide_type": "slide"
    }
   },
   "source": [
    "### Plotting the state\n",
    "\n",
    "There are several functions for generating different types of visualization of a quantum state"
   ]
  },
  {
   "cell_type": "code",
   "execution_count": null,
   "id": "89c03388",
   "metadata": {
    "scrolled": true,
    "slideshow": {
     "slide_type": "slide"
    }
   },
   "outputs": [],
   "source": [
    "from qiskit.visualization import plot_state_qsphere\n",
    "\n",
    "plot_state_qsphere(psi)"
   ]
  },
  {
   "cell_type": "code",
   "execution_count": null,
   "id": "8d91d2d3",
   "metadata": {
    "slideshow": {
     "slide_type": "slide"
    }
   },
   "outputs": [],
   "source": [
    "from qiskit.visualization import plot_state_city\n",
    "\n",
    "plot_state_city(psi)"
   ]
  },
  {
   "cell_type": "code",
   "execution_count": null,
   "id": "aa72c2f0",
   "metadata": {
    "scrolled": true,
    "slideshow": {
     "slide_type": "slide"
    }
   },
   "outputs": [],
   "source": [
    "from qiskit.visualization import plot_state_hinton\n",
    "\n",
    "plot_state_hinton(psi)"
   ]
  },
  {
   "cell_type": "code",
   "execution_count": null,
   "id": "6753d42a",
   "metadata": {
    "scrolled": true,
    "slideshow": {
     "slide_type": "slide"
    }
   },
   "outputs": [],
   "source": [
    "from qiskit.visualization import plot_state_paulivec\n",
    "\n",
    "plot_state_paulivec(psi)"
   ]
  },
  {
   "cell_type": "markdown",
   "id": "eac5f61a",
   "metadata": {
    "slideshow": {
     "slide_type": "slide"
    }
   },
   "source": [
    "### Executing the circuit\n",
    "\n",
    "Before executing the circuit, we need to add a measurement."
   ]
  },
  {
   "cell_type": "code",
   "execution_count": null,
   "id": "222a2b95",
   "metadata": {
    "scrolled": false
   },
   "outputs": [],
   "source": [
    "circuit.measure_all()\n",
    "\n",
    "circuit.draw('mpl',style=\"iqp\",initial_state=True)"
   ]
  },
  {
   "cell_type": "markdown",
   "id": "8a38f0d8",
   "metadata": {
    "slideshow": {
     "slide_type": "slide"
    }
   },
   "source": [
    "To execute a circuit, we need to choose a backend. Here we use the local simulator from qiskit Aer. "
   ]
  },
  {
   "cell_type": "code",
   "execution_count": null,
   "id": "93e088b3",
   "metadata": {
    "slideshow": {
     "slide_type": "-"
    }
   },
   "outputs": [],
   "source": [
    "from qiskit_aer import AerSimulator\n",
    "\n",
    "backend = AerSimulator() # this is the simulator we'll use\n",
    "job = backend.run(circuit,shots=1000) # this runs the experiment\n",
    "\n",
    "result = job.result()\n",
    "counts = result.get_counts()\n",
    "# quiz-time!"
   ]
  },
  {
   "cell_type": "markdown",
   "id": "46c850e9",
   "metadata": {
    "slideshow": {
     "slide_type": "slide"
    }
   },
   "source": [
    "We can then plot the results in a histogram."
   ]
  },
  {
   "cell_type": "code",
   "execution_count": null,
   "id": "890144e0",
   "metadata": {
    "scrolled": true,
    "slideshow": {
     "slide_type": "-"
    }
   },
   "outputs": [],
   "source": [
    "# quiz-time!"
   ]
  },
  {
   "cell_type": "markdown",
   "id": "1ec12ec4",
   "metadata": {
    "slideshow": {
     "slide_type": "slide"
    }
   },
   "source": [
    "### Running on real backends"
   ]
  },
  {
   "cell_type": "markdown",
   "id": "826d8f2d",
   "metadata": {
    "slideshow": {
     "slide_type": "-"
    }
   },
   "source": [
    "#### Circuit transpilation\n",
    "\n",
    "Backends in Qiskit are accessed through `QiskitRuntimeService`. For the duration of this workshop, all participants should have access to the instance given below:"
   ]
  },
  {
   "cell_type": "code",
   "execution_count": null,
   "id": "6a0a3162",
   "metadata": {},
   "outputs": [],
   "source": [
    "from qiskit_ibm_runtime import QiskitRuntimeService, Sampler, Options\n",
    "# set account here https://quantum.ibm.com/\n",
    "service = QiskitRuntimeService(instance=\"ibm-q-ikerbasque/industry-qiskit-/generic-project\")\n",
    "# when loading your IBM Quantum account for the first time you need to specify your token:\n",
    "#service = QiskitRuntimeService(instance=\"ibm-q-ikerbasque/industry-qiskit-/generic-project\", token=\"token\")"
   ]
  },
  {
   "cell_type": "markdown",
   "id": "e72b05a4",
   "metadata": {
    "slideshow": {
     "slide_type": "slide"
    }
   },
   "source": [
    "After specifying the instance, we can check which devices we can access with it:"
   ]
  },
  {
   "cell_type": "code",
   "execution_count": null,
   "id": "242c04ff",
   "metadata": {},
   "outputs": [],
   "source": [
    "[(b.name, b.configuration().n_qubits) for b in service.backends()]"
   ]
  },
  {
   "cell_type": "markdown",
   "id": "e13bf6e7",
   "metadata": {
    "slideshow": {
     "slide_type": "slide"
    }
   },
   "source": [
    "To avoid long times in the queue, let us choose the least busy device:"
   ]
  },
  {
   "cell_type": "code",
   "execution_count": null,
   "id": "cebdbf88",
   "metadata": {},
   "outputs": [],
   "source": [
    "from qiskit_ibm_provider import least_busy\n",
    "\n",
    "backend = service.least_busy(simulator=False, operational=True)\n",
    "#backend = service.backend(\"ibm_brisbane\")\n",
    "print(backend)"
   ]
  },
  {
   "cell_type": "markdown",
   "id": "4e2f3ca0",
   "metadata": {
    "slideshow": {
     "slide_type": "slide"
    }
   },
   "source": [
    "Before we can submit the circuit to the device, it needs to be _transpiled_ to the backend, i.e., decomposed into operations which the backend can implement. "
   ]
  },
  {
   "cell_type": "code",
   "execution_count": null,
   "id": "ed2ed251",
   "metadata": {},
   "outputs": [],
   "source": [
    "from qiskit.transpiler.preset_passmanagers import generate_preset_pass_manager\n",
    "pm = generate_preset_pass_manager(backend=backend, initial_layout=[0,6], optimization_level=3)\n",
    "t_qc = pm.run(circuit)"
   ]
  },
  {
   "cell_type": "code",
   "execution_count": null,
   "id": "108590d8",
   "metadata": {
    "scrolled": true,
    "slideshow": {
     "slide_type": "slide"
    }
   },
   "outputs": [],
   "source": [
    "t_qc.draw('mpl',style=\"iqp\",idle_wires=False)"
   ]
  },
  {
   "cell_type": "code",
   "execution_count": null,
   "id": "16b2afc2",
   "metadata": {
    "scrolled": true,
    "slideshow": {
     "slide_type": "slide"
    }
   },
   "outputs": [],
   "source": [
    "from qiskit.visualization import plot_circuit_layout, plot_gate_map\n",
    "display(plot_circuit_layout(t_qc, backend))"
   ]
  },
  {
   "cell_type": "markdown",
   "id": "154d4746",
   "metadata": {
    "slideshow": {
     "slide_type": "slide"
    }
   },
   "source": [
    "so maybe this was not the best layout choice... let's better let qiskit optimize the layout"
   ]
  },
  {
   "cell_type": "code",
   "execution_count": null,
   "id": "8b71c243",
   "metadata": {},
   "outputs": [],
   "source": [
    "pm = generate_preset_pass_manager(backend=backend, optimization_level=3)\n",
    "t_qc = pm.run(circuit)\n",
    "t_qc.draw('mpl',style=\"iqp\",idle_wires=False)"
   ]
  },
  {
   "cell_type": "markdown",
   "id": "4ad2daed",
   "metadata": {
    "slideshow": {
     "slide_type": "slide"
    }
   },
   "source": [
    "Now we can create a sampler object and submit the job"
   ]
  },
  {
   "cell_type": "code",
   "execution_count": null,
   "id": "543e06ec",
   "metadata": {},
   "outputs": [],
   "source": [
    "options = Options()\n",
    "options.resilience_level = 1\n",
    "options.optimization_level = 3\n",
    " \n",
    "# Create a Sampler object\n",
    "sampler = Sampler(backend=backend, options=options)\n",
    "\n",
    "# Submit the circuit to Sampler\n",
    "job = sampler.run(t_qc,shots=1000)\n",
    "print(job.job_id())"
   ]
  },
  {
   "cell_type": "code",
   "execution_count": null,
   "id": "a0bbc59c",
   "metadata": {},
   "outputs": [],
   "source": [
    "job.status()"
   ]
  },
  {
   "cell_type": "markdown",
   "id": "c0deea5c",
   "metadata": {
    "slideshow": {
     "slide_type": "slide"
    }
   },
   "source": [
    "As the job is still queued, let's have a look at the results of a previous job I ran:"
   ]
  },
  {
   "cell_type": "code",
   "execution_count": null,
   "id": "53142605",
   "metadata": {},
   "outputs": [],
   "source": [
    "# get results\n",
    "job = service.job('cqcbzgyapgkg008jxcwg')\n",
    "result = job.result()\n",
    "counts = result.quasi_dists\n",
    "plot_histogram(counts)"
   ]
  },
  {
   "cell_type": "markdown",
   "id": "861581c1",
   "metadata": {
    "slideshow": {
     "slide_type": "slide"
    }
   },
   "source": [
    "## 5. Grover's Algorithm\n",
    "\n",
    "Solves unstructured search problems, e.g. searching an unsorted database with $N=2^n$ elements\n",
    "\n",
    "Classical computer needs $N/2 = \\mathcal{O}(N)$ time, quantum computer $\\mathcal{O}(\\sqrt{N})$"
   ]
  },
  {
   "cell_type": "markdown",
   "id": "920f7750",
   "metadata": {
    "slideshow": {
     "slide_type": "slide"
    }
   },
   "source": [
    "### Amplitude Amplification\n",
    "1. Put all items in superposition\n",
    "2. Apply phase oracle $\\tilde{U}_f$\n",
    "3. Apply diffuser: perform reflection around average amplitude\n",
    "#### Circuit representation:\n",
    "<img src=\"Grovers.png\" alt=\"Drawing\" style=\"width: 580px;\"/>"
   ]
  },
  {
   "cell_type": "markdown",
   "id": "4b00309f",
   "metadata": {
    "slideshow": {
     "slide_type": "slide"
    }
   },
   "source": [
    "### Amplitude Amplification\n",
    "<font size=\"5\"> \n",
    "    1. Put all items in superposition <br>\n",
    "    2. Apply phase oracle: flips sign of „winning element“ $|w\\rangle$  <br>\n",
    "    3. Apply diffuser: performs reflection around average amplitude <br>\n",
    "Repeat 2. & 3. $r$ times $\\rightarrow$ final measurement will result in $|w\\rangle$ with very high probability.\n",
    "</font>\n",
    "<img src=\"amplitudeamplification.png\" alt=\"Drawing\" style=\"width: 520px;\"/>"
   ]
  },
  {
   "cell_type": "markdown",
   "id": "faca4b27",
   "metadata": {
    "slideshow": {
     "slide_type": "slide"
    }
   },
   "source": [
    "### Self-made oracle & algorithm\n",
    "Let us start by creating our own phase oracle function and diffuser function."
   ]
  },
  {
   "cell_type": "code",
   "execution_count": null,
   "id": "a154df4c",
   "metadata": {},
   "outputs": [],
   "source": [
    "from qiskit.quantum_info import Operator\n",
    "\n",
    "def phase_oracle(n, indices_to_mark, name = 'Oracle'):\n",
    "    qc = QuantumCircuit(n, name=name)\n",
    "    oracle_matrix = np.identity(2**n)\n",
    "    for index_to_mark in indices_to_mark:\n",
    "        oracle_matrix[index_to_mark, index_to_mark] = -1\n",
    "    qc.unitary(Operator(oracle_matrix), range(n))\n",
    "    return qc\n",
    "\n",
    "def diffuser(n):\n",
    "    qc = QuantumCircuit(n, name='Diff')\n",
    "    qc.h(range(n))\n",
    "    qc.append(phase_oracle(n,[0]),range(n))\n",
    "    qc.h(range(n))\n",
    "    return qc"
   ]
  },
  {
   "cell_type": "markdown",
   "id": "06606205",
   "metadata": {
    "slideshow": {
     "slide_type": "slide"
    }
   },
   "source": [
    "Now we can combine these to build our Grover algorithm:"
   ]
  },
  {
   "cell_type": "code",
   "execution_count": null,
   "id": "f53a1e08",
   "metadata": {},
   "outputs": [],
   "source": [
    "def Grover(n, marked):\n",
    "    qc = QuantumCircuit(n, n)\n",
    "    r = int(np.round(np.pi/(4*np.arcsin(np.sqrt(len(marked)/2**n)))-1/2))\n",
    "    print(f'{n} qubits, basis state {marked} marked, {r} rounds')\n",
    "    qc.h(range(n))\n",
    "    for _ in range(r):\n",
    "        qc.append(phase_oracle(n,marked), range(n))\n",
    "        qc.append(diffuser(n), range(n))\n",
    "    qc.measure(range(n), range(n))\n",
    "    return qc"
   ]
  },
  {
   "cell_type": "code",
   "execution_count": null,
   "id": "9f284f49",
   "metadata": {
    "scrolled": false,
    "slideshow": {
     "slide_type": "slide"
    }
   },
   "outputs": [],
   "source": [
    "import numpy as np\n",
    "\n",
    "n = 5\n",
    "x = np.random.randint(2**n)\n",
    "marked = [x]\n",
    "qc = Grover(n, marked)\n",
    "\n",
    "qc.draw('mpl',style=\"iqp\",initial_state=True)"
   ]
  },
  {
   "cell_type": "code",
   "execution_count": null,
   "id": "420dfd6f",
   "metadata": {
    "slideshow": {
     "slide_type": "slide"
    }
   },
   "outputs": [],
   "source": [
    "from qiskit_aer import AerSimulator\n",
    "from qiskit import transpile\n",
    "\n",
    "backend = AerSimulator()\n",
    "tqc = transpile(qc, backend)\n",
    "\n",
    "result = backend.run(tqc, shots=10000).result()\n",
    "counts = result.get_counts(qc)\n",
    "print(counts)\n",
    "plot_histogram(counts) \n",
    "# quiz-time!"
   ]
  },
  {
   "cell_type": "code",
   "execution_count": null,
   "id": "e59aafcb",
   "metadata": {
    "slideshow": {
     "slide_type": "slide"
    }
   },
   "outputs": [],
   "source": [
    "def Grover_run_roundwise(n, marked):\n",
    "    r = int(np.round(np.pi/(4*np.arcsin(np.sqrt(len(marked)/2**n)))-1/2))\n",
    "    print(f'{n} qubits, basis state {marked} marked, {r} rounds')\n",
    "    counts = []\n",
    "    for i in range(r):\n",
    "        qc = QuantumCircuit(n, n)\n",
    "        qc.h(range(n))\n",
    "        for _ in range(i+1):\n",
    "            qc.append(phase_oracle(n,marked), range(n))\n",
    "            qc.append(diffuser(n), range(n))\n",
    "        qc.measure(range(n), range(n))\n",
    "        tqc = transpile(qc, backend)\n",
    "        result = backend.run(tqc, shots=10000).result()\n",
    "        counts.append(result.get_counts())\n",
    "    return counts\n",
    "\n",
    "backend = AerSimulator()\n",
    "counts = Grover_run_roundwise(n,marked) \n",
    "# quiz-time!"
   ]
  },
  {
   "cell_type": "code",
   "execution_count": null,
   "id": "e5bbc114",
   "metadata": {
    "slideshow": {
     "slide_type": "slide"
    }
   },
   "outputs": [],
   "source": [
    "n = 3\n",
    "x = np.random.randint(2**n)\n",
    "y = np.random.randint(2**n)\n",
    "while y==x:\n",
    "    y = np.random.randint(2**n)\n",
    "marked = [x,y]\n",
    "qc = Grover(n, marked)\n",
    "\n",
    "backend = service.least_busy(simulator=False, operational=True)\n",
    "print(\"least busy backend: \", backend)\n",
    "#backend = provider.get_backend('ibm_osaka')\n",
    "\n",
    "shots = 10000\n",
    "pm = generate_preset_pass_manager(backend=backend, optimization_level=3)\n",
    "tqc = pm.run(qc)\n",
    "job = sampler.run(tqc,shots=1000)\n",
    "print(job.job_id())"
   ]
  },
  {
   "cell_type": "code",
   "execution_count": null,
   "id": "2dde69e6",
   "metadata": {
    "slideshow": {
     "slide_type": "slide"
    }
   },
   "outputs": [],
   "source": [
    "old_job = service.job('cqcc09sqgrzg008cw7ng')\n",
    "results = old_job.result()\n",
    "counts = results.quasi_dists\n",
    "plot_histogram(counts)"
   ]
  },
  {
   "cell_type": "markdown",
   "id": "d48a5e88",
   "metadata": {
    "slideshow": {
     "slide_type": "slide"
    }
   },
   "source": [
    "### Grover's Algorithm to Solve a Satisfyability Problem\n",
    "Imagine you are throwing a birthday party and you need to decide which of your friends Alice, Bob, Charlie, Dave and Eve to invite. There are a few restrictions:\n",
    "<br>\n",
    "<br>\n",
    "<br>\n",
    "<br>\n",
    "<br>\n",
    "<br>\n",
    "<br>\n",
    "<br>"
   ]
  },
  {
   "cell_type": "markdown",
   "id": "faa04310",
   "metadata": {
    "slideshow": {
     "slide_type": "slide"
    }
   },
   "source": [
    "### Grover's Algorithm to Solve a Satisfyability Problem\n",
    "Imagine you are throwing a birthday party and you need to decide which of your friends Alice, Bob, Charlie, Dave and Eve to invite. There are a few restrictions:\n",
    "\n",
    "i) Alice and Eve are always fighting, so you definitely do not want to invite both of them.\n",
    "<br>\n",
    "<br>\n",
    "<br>\n",
    "<br>\n",
    "<br>\n",
    "<br>"
   ]
  },
  {
   "cell_type": "markdown",
   "id": "a193daa2",
   "metadata": {
    "slideshow": {
     "slide_type": "slide"
    }
   },
   "source": [
    "### Grover's Algorithm to Solve a Satisfyability Problem\n",
    "Imagine you are throwing a birthday party and you need to decide which of your friends Alice, Bob, Charlie, Dave and Eve to invite. There are a few restrictions:\n",
    "\n",
    "i) Alice and Eve are always fighting, so you definitely do not want to invite both of them.\n",
    "\n",
    "ii) Alice and Charlie are married, so if you invite one of them, you have to invite the other one as well.\n",
    "<br>\n",
    "<br>\n",
    "<br>\n",
    "<br>"
   ]
  },
  {
   "cell_type": "markdown",
   "id": "7a88b395",
   "metadata": {
    "slideshow": {
     "slide_type": "slide"
    }
   },
   "source": [
    "### Grover's Algorithm to Solve a Satisfyability Problem\n",
    "Imagine you are throwing a birthday party and you need to decide which of your friends Alice, Bob, Charlie, Dave and Eve to invite. There are a few restrictions:\n",
    "\n",
    "i) Alice and Eve are always fighting, so you definitely do not want to invite both of them.\n",
    "\n",
    "ii) Alice and Charlie are married, so if you invite one of them, you have to invite the other one as well.\n",
    "\n",
    "iii) In order to liven up the atmosphere, you want to invite at least one of your more entertaining friends, Bob and Dave."
   ]
  },
  {
   "cell_type": "markdown",
   "id": "c68c0366",
   "metadata": {
    "slideshow": {
     "slide_type": "slide"
    }
   },
   "source": [
    "iv) Whenever the three guys, Bob, Charlie and Dave, get together, they somehow incite each other and the party might get out of control. So don't invite all three of them."
   ]
  },
  {
   "cell_type": "markdown",
   "id": "7b859b91",
   "metadata": {
    "slideshow": {
     "slide_type": "fragment"
    }
   },
   "source": [
    "v) You know that if you invite Bob, he will most likely ask Alice about ideas for a birthday present. Therefore, if you invite Bob, you should also invite Alice (but not necessarily the other way around)."
   ]
  },
  {
   "cell_type": "markdown",
   "id": "1d94ab9d",
   "metadata": {
    "slideshow": {
     "slide_type": "fragment"
    }
   },
   "source": [
    "vi) Dave will only come if Bob comes as well (not the other way around though). So no point to invite him if Bob is not getting invited."
   ]
  },
  {
   "cell_type": "markdown",
   "id": "623e2ad8",
   "metadata": {
    "slideshow": {
     "slide_type": "slide"
    }
   },
   "source": [
    "Let us use Grover's algorithm to figure out which options you have for possible invite lists. To feed these requirements into the oracle, let us encode them as logical statements and then formulate them as a 3-SAT problem. "
   ]
  },
  {
   "cell_type": "markdown",
   "id": "1562879a",
   "metadata": {
    "slideshow": {
     "slide_type": "fragment"
    }
   },
   "source": [
    "Note that 3-SAT problems can be always written in what is known as conjunctive normal form (CNF), which is a conjunction of clauses (or a single clause). Each clause in the 3-SAT problem is a disjunction (\"or\") of at most three literals. A literal is either a variable, called positive literal, or the negation of a variable, called negative literal."
   ]
  },
  {
   "cell_type": "markdown",
   "id": "4c9a2490",
   "metadata": {
    "slideshow": {
     "slide_type": "slide"
    }
   },
   "source": [
    "To give you an example, the first statement could be encoded as a logical statement as $\\lnot (A \\land E)$. "
   ]
  },
  {
   "cell_type": "markdown",
   "id": "81f907f6",
   "metadata": {
    "slideshow": {
     "slide_type": "fragment"
    }
   },
   "source": [
    "However, this is not a clause (or a conjunction of clauses). We can rewrite it as $\\lnot A \\lor \\lnot E$\n",
    "though, which is a disjunction of two negative literals and therefore a valid clause."
   ]
  },
  {
   "cell_type": "markdown",
   "id": "18a0a5fe",
   "metadata": {
    "slideshow": {
     "slide_type": "fragment"
    }
   },
   "source": [
    "For the input to the oracle in Qiskit, we encode each clause as one line with the literals and a \"0\" in the end, so in this case the corresponding line would be (encoding A as 1, B as 2, C as 3, D as 4 and E as 5),\n",
    "\n",
    "-1 -5 0"
   ]
  },
  {
   "cell_type": "markdown",
   "id": "ff626cee",
   "metadata": {
    "slideshow": {
     "slide_type": "slide"
    }
   },
   "source": [
    "Writing each of the restrictions as a clause or a conjunction of clauses, we get for the six restrictions the following seven clauses as ii) cannot be written as a single clause:\n",
    "\n",
    "i) $\\quad \\lnot A \\lor \\lnot E \\qquad$ -1 -5 0\n",
    "\n",
    "ii) $\\quad (A \\lor \\lnot C) \\land (\\lnot A \\lor C) \\qquad$ 1 -3 0 $\\land$ -1 3 0\n",
    "\n",
    "iii) $\\quad B \\lor D \\qquad$ 2 4 0\n",
    "\n",
    "iv) $\\quad \\lnot B \\lor \\lnot C \\lor \\lnot D \\qquad$ -2 -3 -4 0\n",
    "\n",
    "v) $\\quad A \\lor \\lnot B \\qquad$ 1 -2 0\n",
    "\n",
    "vi) $\\quad B \\lor \\lnot D \\qquad$ 2 -4 0"
   ]
  },
  {
   "cell_type": "code",
   "execution_count": null,
   "id": "31bfa23f",
   "metadata": {
    "slideshow": {
     "slide_type": "slide"
    }
   },
   "outputs": [],
   "source": [
    "from qiskit.circuit.library import PhaseOracle\n",
    "\n",
    "# this indicates that the input is CNF with five variables and seven clauses\n",
    "input_3sat = '''\n",
    "c example DIMACS-CNF 3-SAT\n",
    "p cnf 5 7 \n",
    "-1 -5 0\n",
    "1 -3 0\n",
    "-1 3 0\n",
    "2 4 0\n",
    "-2 -3 -4 0\n",
    "1 -2 0\n",
    "2 -4 0\n",
    "'''\n",
    "\n",
    "with open(\"3sat.dimacs\", \"w\") as text_file:\n",
    "    text_file.write(input_3sat)\n",
    "\n",
    "oracle = PhaseOracle.from_dimacs_file(\"3sat.dimacs\")"
   ]
  },
  {
   "cell_type": "code",
   "execution_count": null,
   "id": "d3342605",
   "metadata": {
    "slideshow": {
     "slide_type": "slide"
    }
   },
   "outputs": [],
   "source": [
    "from qiskit_algorithms import Grover, AmplificationProblem\n",
    "from qiskit.utils import QuantumInstance\n",
    "from qiskit.primitives import Sampler\n",
    "import warnings\n",
    "#warnings.filterwarnings('ignore')\n",
    "\n",
    "problem = AmplificationProblem(oracle=oracle)\n",
    "\n",
    "# Use Grover's algorithm to solve the problem\n",
    "grover = Grover(sampler = Sampler())\n",
    "result = grover.amplify(problem)\n",
    "result.top_measurement"
   ]
  },
  {
   "cell_type": "code",
   "execution_count": null,
   "id": "1bbc4290",
   "metadata": {
    "scrolled": true,
    "slideshow": {
     "slide_type": "slide"
    }
   },
   "outputs": [],
   "source": [
    "plot_histogram(result.circuit_results) \n",
    "# quiz-time!"
   ]
  },
  {
   "cell_type": "code",
   "execution_count": null,
   "id": "6b6df4ac",
   "metadata": {
    "slideshow": {
     "slide_type": "slide"
    }
   },
   "outputs": [],
   "source": [
    "# transpile the circuit for our backend\n",
    "qc = grover.construct_circuit(problem, max(result.iterations))\n",
    "qc.measure_all()\n",
    "backend = service.backend(\"ibm_osaka\")\n",
    "grover_compiled = transpile(qc, backend=backend, optimization_level=3)\n",
    "\n",
    "print('gates = ', grover_compiled.count_ops())\n",
    "print('depth = ', grover_compiled.depth())"
   ]
  },
  {
   "cell_type": "markdown",
   "id": "74ad12c0",
   "metadata": {
    "slideshow": {
     "slide_type": "fragment"
    }
   },
   "source": [
    "Unfortunately, the depth and number of gates needed scales up very quickly and is for useful problems above the limits regarding decoherence time of current near-term quantum computers. Thus, for now we will stick to the simulations ;-)"
   ]
  },
  {
   "cell_type": "markdown",
   "id": "38c8dded",
   "metadata": {
    "slideshow": {
     "slide_type": "slide"
    }
   },
   "source": [
    "## 6. Noisy backends and measurement error mitigation"
   ]
  },
  {
   "cell_type": "markdown",
   "id": "2d40d6fb",
   "metadata": {},
   "source": [
    "Present day quantum computers are subject to noise of various kinds. We can use different error suppression and error mitigation methods to reduce it."
   ]
  },
  {
   "cell_type": "markdown",
   "id": "74d65386",
   "metadata": {
    "slideshow": {
     "slide_type": "fragment"
    }
   },
   "source": [
    "- Error suppression: reduces errors by modifying the circuit\n",
    "- Error mitigation: reduces the effects from a specific source of error by classically post-processing the counts to produce more accurate expectation values."
   ]
  },
  {
   "cell_type": "markdown",
   "id": "a8648be0",
   "metadata": {
    "slideshow": {
     "slide_type": "slide"
    }
   },
   "source": [
    "### Error suppression: Layout Choice\n",
    "\n",
    "As we can see here from the connectivity map with calibration data of the device *ibm_osaka*, not all qubits and connections are equally good, so it makes sense to optimize the layout. (quiz-time!)\n",
    "<img src=\"calibration_data_osaka.png\" alt=\"Drawing\" style=\"width: 500px;\"/>"
   ]
  },
  {
   "cell_type": "markdown",
   "id": "d42cd078",
   "metadata": {
    "slideshow": {
     "slide_type": "slide"
    }
   },
   "source": [
    "### Error suppression: Dynamical Decoupling (DD)\n",
    "\n",
    "Insert periodic sequences of X/Y pulses to suppress decoherence and unwanted ZZ interactions by \"averaging it out\".\n",
    "<img src=\"DynamicalDecoupling.png\" alt=\"Drawing\" style=\"width: 580px;\"/>"
   ]
  },
  {
   "cell_type": "markdown",
   "id": "018225c6",
   "metadata": {
    "slideshow": {
     "slide_type": "slide"
    }
   },
   "source": [
    "### Error Mitigation: Zero-Noise Extrapolation (ZNE)\n",
    "\n",
    "Compute the expectation value of an observable for different noise factors (amplification stage) and then use the measured expectation values to infer the ideal expectation value at the zero-noise limit (extrapolation stage).\n",
    "<img src=\"ZNE.png\" alt=\"Drawing\" style=\"width: 500px;\"/>"
   ]
  },
  {
   "cell_type": "markdown",
   "id": "7d072525",
   "metadata": {
    "slideshow": {
     "slide_type": "slide"
    }
   },
   "source": [
    "### Error Mitigation: Measurement error mitigation\n",
    "We start by creating a set of circuits that prepare and measure each of the $2^n$ basis states, where $n$ is the number of qubits. The outcome statistics are then captured by a calibration matrix $M$, where the element $M_{ij}$ gives the probability to get output state $|i\\rangle$ when state $|j\\rangle$ was prepared. "
   ]
  },
  {
   "cell_type": "markdown",
   "id": "e24d52a7",
   "metadata": {
    "slideshow": {
     "slide_type": "fragment"
    }
   },
   "source": [
    "Plotting such a calibration matrix can look like this (quiz-time!!):\n",
    "<img src=\"mem.png\" alt=\"Drawing\" style=\"width: 480px;\"/>"
   ]
  },
  {
   "cell_type": "markdown",
   "id": "17b1e060",
   "metadata": {
    "slideshow": {
     "slide_type": "fragment"
    }
   },
   "source": [
    "Note that the calibration matrix is in general not invertible, thus requiring a generalized inverse method to solve.  Additionally, the noise is not deterministic, and has fluctuations, so this will in general not give you the ideal noise-free state, but it should bring you closer to it."
   ]
  },
  {
   "cell_type": "markdown",
   "id": "0052f6be",
   "metadata": {
    "slideshow": {
     "slide_type": "slide"
    }
   },
   "source": [
    "Choosing better qubits results in smaller off-diagonal elements:\n",
    "<img src=\"mem2.png\" alt=\"Drawing\" style=\"width: 480px;\"/>"
   ]
  },
  {
   "cell_type": "markdown",
   "id": "0ff9bb8e",
   "metadata": {
    "slideshow": {
     "slide_type": "slide"
    }
   },
   "source": [
    "Let us check the effect of that on the results of a quantum circuit. As an example, we prepare a GHZ state:"
   ]
  },
  {
   "cell_type": "code",
   "execution_count": null,
   "id": "e421b042",
   "metadata": {
    "slideshow": {
     "slide_type": "-"
    }
   },
   "outputs": [],
   "source": [
    "from qiskit import QuantumCircuit, transpile\n",
    "\n",
    "# GHZ state\n",
    "n = 3\n",
    "qc = QuantumCircuit(n, n)\n",
    "qc.h(1)\n",
    "qc.cx(1, 0)\n",
    "qc.cx(1, 2)\n",
    "qc.measure(range(n), range(n))\n",
    "layout = [0,14,18]\n",
    "pm = generate_preset_pass_manager(backend=backend, initial_layout=layout, optimization_level=3)\n",
    "t_qc = pm.run(qc)"
   ]
  },
  {
   "cell_type": "markdown",
   "id": "3e2a3114",
   "metadata": {
    "slideshow": {
     "slide_type": "slide"
    }
   },
   "source": [
    "Using the Sampler, we can choose in the options the resilience level (1: with mem, 0: no mem)!"
   ]
  },
  {
   "cell_type": "code",
   "execution_count": null,
   "id": "d83300ca",
   "metadata": {},
   "outputs": [],
   "source": [
    "from qiskit_ibm_runtime import Sampler\n",
    "options.resilience_level = 1\n",
    "sampler = Sampler(backend=backend,options=options)\n",
    "#job = sampler.run(t_qc, shots=shots)\n",
    "#print(job.job_id())"
   ]
  },
  {
   "cell_type": "code",
   "execution_count": null,
   "id": "b57992c2",
   "metadata": {},
   "outputs": [],
   "source": [
    "options.resilience_level = 0\n",
    "sampler = Sampler(backend=backend,options=options)\n",
    "#job = sampler.run(t_qc, shots=shots)\n",
    "#print(job.job_id())"
   ]
  },
  {
   "cell_type": "code",
   "execution_count": null,
   "id": "ead2b62a",
   "metadata": {
    "slideshow": {
     "slide_type": "slide"
    }
   },
   "outputs": [],
   "source": [
    "ghz_mem = service.job('cqdryehfejeg0085wt00') # [0,14,18]\n",
    "ghz_nomem = service.job('cqdryfsgtagg008qr8s0')\n",
    "results = ghz_nomem.result()\n",
    "counts_nomem = results.quasi_dists\n",
    "results = ghz_mem.result()\n",
    "counts_mem = results.quasi_dists\n",
    "plot_histogram([counts_nomem[0],counts_mem[0]], legend=['noisy', 'mitigated'])\n",
    "# quiz-time!"
   ]
  },
  {
   "cell_type": "code",
   "execution_count": null,
   "id": "dd5ee910",
   "metadata": {},
   "outputs": [],
   "source": [
    "print(counts_nomem[0])\n",
    "print(counts_mem[0])"
   ]
  },
  {
   "cell_type": "code",
   "execution_count": null,
   "id": "e1bdc753",
   "metadata": {
    "slideshow": {
     "slide_type": "notes"
    }
   },
   "outputs": [],
   "source": [
    "import qiskit.tools.jupyter\n",
    "%qiskit_version_table"
   ]
  }
 ],
 "metadata": {
  "celltoolbar": "Slideshow",
  "kernelspec": {
   "display_name": "Python 3 (ipykernel)",
   "language": "python",
   "name": "python3"
  },
  "language_info": {
   "codemirror_mode": {
    "name": "ipython",
    "version": 3
   },
   "file_extension": ".py",
   "mimetype": "text/x-python",
   "name": "python",
   "nbconvert_exporter": "python",
   "pygments_lexer": "ipython3",
   "version": "3.10.4"
  },
  "rise": {
   "theme": "serif"
  }
 },
 "nbformat": 4,
 "nbformat_minor": 5
}
